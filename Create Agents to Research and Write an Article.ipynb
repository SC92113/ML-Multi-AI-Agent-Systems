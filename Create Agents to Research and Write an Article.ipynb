{
 "cells": [
  {
   "cell_type": "markdown",
   "metadata": {},
   "source": [
    "You can download the `requirements.txt` for this course from the workspace of this lab. `File --> Open...`"
   ]
  },
  {
   "cell_type": "markdown",
   "metadata": {},
   "source": [
    "# L2: Create Agents to Research and Write an Article\n",
    "\n",
    "In this lesson, you will be introduced to the foundational concepts of multi-agent systems and get an overview of the crewAI framework."
   ]
  },
  {
   "cell_type": "markdown",
   "metadata": {},
   "source": [
    "The libraries are already installed in the classroom. If you're running this notebook on your own machine, you can install the following:\n",
    "```Python\n",
    "!pip install crewai==0.28.8 crewai_tools==0.1.6 langchain_community==0.0.29\n",
    "```"
   ]
  },
  {
   "cell_type": "code",
   "execution_count": 27,
   "metadata": {
    "height": 64
   },
   "outputs": [],
   "source": [
    "# Warning control\n",
    "import warnings\n",
    "warnings.filterwarnings('ignore')"
   ]
  },
  {
   "cell_type": "markdown",
   "metadata": {},
   "source": [
    "- Import from the crewAI libray."
   ]
  },
  {
   "cell_type": "code",
   "execution_count": 28,
   "metadata": {
    "height": 30
   },
   "outputs": [],
   "source": [
    "from crewai import Agent, Task, Crew"
   ]
  },
  {
   "cell_type": "markdown",
   "metadata": {},
   "source": [
    "- As a LLM for your agents, you'll be using OpenAI's `gpt-3.5-turbo`.\n",
    "\n",
    "**Optional Note:** crewAI also allow other popular models to be used as a LLM for your Agents. You can see some of the examples at the [bottom of the notebook](#1)."
   ]
  },
  {
   "cell_type": "code",
   "execution_count": 29,
   "metadata": {
    "height": 119
   },
   "outputs": [],
   "source": [
    "import os\n",
    "from utils import get_openai_api_key\n",
    "\n",
    "openai_api_key = get_openai_api_key()\n",
    "os.environ[\"OPENAI_MODEL_NAME\"] = 'gpt-3.5-turbo'"
   ]
  },
  {
   "cell_type": "markdown",
   "metadata": {},
   "source": [
    "## Creating Agents\n",
    "\n",
    "- Define your Agents, and provide them a `role`, `goal` and `backstory`.\n",
    "- It has been seen that LLMs perform better when they are role playing."
   ]
  },
  {
   "cell_type": "markdown",
   "metadata": {},
   "source": [
    "### Agent: Planner\n",
    "\n",
    "**Note**: The benefit of using _multiple strings_ :\n",
    "```Python\n",
    "varname = \"line 1 of text\"\n",
    "          \"line 2 of text\"\n",
    "```\n",
    "\n",
    "versus the _triple quote docstring_:\n",
    "```Python\n",
    "varname = \"\"\"line 1 of text\n",
    "             line 2 of text\n",
    "          \"\"\"\n",
    "```\n",
    "is that it can avoid adding those whitespaces and newline characters, making it better formatted to be passed to the LLM."
   ]
  },
  {
   "cell_type": "code",
   "execution_count": 30,
   "metadata": {
    "height": 234
   },
   "outputs": [],
   "source": [
    "planner = Agent(\n",
    "    role=\"Content Planner\",\n",
    "    goal=\"Plan engaging and factually accurate content on {topic}\",\n",
    "    backstory=\"You're working on planning a blog article \"\n",
    "              \"about the topic: {topic}.\"\n",
    "              \"You collect information that helps the \"\n",
    "              \"audience learn something \"\n",
    "              \"and make informed decisions. \"\n",
    "              \"Your work is the basis for \"\n",
    "              \"the Content Writer to write an article on this topic.\",\n",
    "    allow_delegation=False,\n",
    "\tverbose=True\n",
    ")"
   ]
  },
  {
   "cell_type": "markdown",
   "metadata": {},
   "source": [
    "### Agent: Writer"
   ]
  },
  {
   "cell_type": "code",
   "execution_count": 31,
   "metadata": {
    "height": 370
   },
   "outputs": [],
   "source": [
    "writer = Agent(\n",
    "    role=\"Content Writer\",\n",
    "    goal=\"Write insightful and factually accurate \"\n",
    "         \"opinion piece about the topic: {topic}\",\n",
    "    backstory=\"You're working on a writing \"\n",
    "              \"a new opinion piece about the topic: {topic}. \"\n",
    "              \"You base your writing on the work of \"\n",
    "              \"the Content Planner, who provides an outline \"\n",
    "              \"and relevant context about the topic. \"\n",
    "              \"You follow the main objectives and \"\n",
    "              \"direction of the outline, \"\n",
    "              \"as provide by the Content Planner. \"\n",
    "              \"You also provide objective and impartial insights \"\n",
    "              \"and back them up with information \"\n",
    "              \"provide by the Content Planner. \"\n",
    "              \"You acknowledge in your opinion piece \"\n",
    "              \"when your statements are opinions \"\n",
    "              \"as opposed to objective statements.\",\n",
    "    allow_delegation=False,\n",
    "    verbose=True\n",
    ")"
   ]
  },
  {
   "cell_type": "markdown",
   "metadata": {},
   "source": [
    "### Agent: Editor"
   ]
  },
  {
   "cell_type": "code",
   "execution_count": 32,
   "metadata": {
    "height": 268
   },
   "outputs": [],
   "source": [
    "editor = Agent(\n",
    "    role=\"Editor\",\n",
    "    goal=\"Edit a given blog post to align with \"\n",
    "         \"the writing style of the organization. \",\n",
    "    backstory=\"You are an editor who receives a blog post \"\n",
    "              \"from the Content Writer. \"\n",
    "              \"Your goal is to review the blog post \"\n",
    "              \"to ensure that it follows journalistic best practices,\"\n",
    "              \"provides balanced viewpoints \"\n",
    "              \"when providing opinions or assertions, \"\n",
    "              \"and also avoids major controversial topics \"\n",
    "              \"or opinions when possible.\",\n",
    "    allow_delegation=False,\n",
    "    verbose=True\n",
    ")"
   ]
  },
  {
   "cell_type": "markdown",
   "metadata": {},
   "source": [
    "## Creating Tasks\n",
    "\n",
    "- Define your Tasks, and provide them a `description`, `expected_output` and `agent`."
   ]
  },
  {
   "cell_type": "markdown",
   "metadata": {},
   "source": [
    "### Task: Plan"
   ]
  },
  {
   "cell_type": "code",
   "execution_count": 33,
   "metadata": {
    "height": 268
   },
   "outputs": [],
   "source": [
    "plan = Task(\n",
    "    description=(\n",
    "        \"1. Prioritize the latest trends, key players, \"\n",
    "            \"and noteworthy news on {topic}.\\n\"\n",
    "        \"2. Identify the target audience, considering \"\n",
    "            \"their interests and pain points.\\n\"\n",
    "        \"3. Develop a detailed content outline including \"\n",
    "            \"an introduction, key points, and a call to action.\\n\"\n",
    "        \"4. Include SEO keywords and relevant data or sources.\"\n",
    "    ),\n",
    "    expected_output=\"A comprehensive content plan document \"\n",
    "        \"with an outline, audience analysis, \"\n",
    "        \"SEO keywords, and resources.\",\n",
    "    agent=planner,\n",
    ")"
   ]
  },
  {
   "cell_type": "markdown",
   "metadata": {},
   "source": [
    "### Task: Write"
   ]
  },
  {
   "cell_type": "code",
   "execution_count": 34,
   "metadata": {
    "height": 319
   },
   "outputs": [],
   "source": [
    "write = Task(\n",
    "    description=(\n",
    "        \"1. Use the content plan to craft a compelling \"\n",
    "            \"blog post on {topic}.\\n\"\n",
    "        \"2. Incorporate SEO keywords naturally.\\n\"\n",
    "\t\t\"3. Sections/Subtitles are properly named \"\n",
    "            \"in an engaging manner.\\n\"\n",
    "        \"4. Ensure the post is structured with an \"\n",
    "            \"engaging introduction, insightful body, \"\n",
    "            \"and a summarizing conclusion.\\n\"\n",
    "        \"5. Proofread for grammatical errors and \"\n",
    "            \"alignment with the brand's voice.\\n\"\n",
    "    ),\n",
    "    expected_output=\"A well-written blog post \"\n",
    "        \"in markdown format, ready for publication, \"\n",
    "        \"each section should have 2 or 3 paragraphs.\",\n",
    "    agent=writer,\n",
    ")"
   ]
  },
  {
   "cell_type": "markdown",
   "metadata": {},
   "source": [
    "### Task: Edit"
   ]
  },
  {
   "cell_type": "code",
   "execution_count": 35,
   "metadata": {
    "height": 166
   },
   "outputs": [],
   "source": [
    "edit = Task(\n",
    "    description=(\"Proofread the given blog post for \"\n",
    "                 \"grammatical errors and \"\n",
    "                 \"alignment with the brand's voice.\"),\n",
    "    expected_output=\"A well-written blog post in markdown format, \"\n",
    "                    \"ready for publication, \"\n",
    "                    \"each section should have 2 or 3 paragraphs.\",\n",
    "    agent=editor\n",
    ")"
   ]
  },
  {
   "cell_type": "markdown",
   "metadata": {},
   "source": [
    "## Creating the Crew\n",
    "\n",
    "- Create your crew of Agents\n",
    "- Pass the tasks to be performed by those agents.\n",
    "    - **Note**: *For this simple example*, the tasks will be performed sequentially (i.e they are dependent on each other), so the _order_ of the task in the list _matters_.\n",
    "- `verbose=2` allows you to see all the logs of the execution. "
   ]
  },
  {
   "cell_type": "code",
   "execution_count": 39,
   "metadata": {
    "height": 98
   },
   "outputs": [
    {
     "name": "stderr",
     "output_type": "stream",
     "text": [
      "2024-07-30 09:39:53,509 - 140223640587136 - __init__.py-__init__:518 - WARNING: Overriding of current TracerProvider is not allowed\n"
     ]
    }
   ],
   "source": [
    "crew = Crew(\n",
    "    agents=[planner, writer, editor],\n",
    "    tasks=[plan, write, edit],\n",
    "    verbose=2\n",
    ")"
   ]
  },
  {
   "cell_type": "markdown",
   "metadata": {},
   "source": [
    "## Running the Crew"
   ]
  },
  {
   "cell_type": "markdown",
   "metadata": {},
   "source": [
    "**Note**: LLMs can provide different outputs for they same input, so what you get might be different than what you see in the video."
   ]
  },
  {
   "cell_type": "code",
   "execution_count": 41,
   "metadata": {
    "height": 30
   },
   "outputs": [
    {
     "name": "stdout",
     "output_type": "stream",
     "text": [
      "\u001b[1m\u001b[95m [DEBUG]: == Working Agent: Content Planner\u001b[00m\n",
      "\u001b[1m\u001b[95m [INFO]: == Starting Task: 1. Prioritize the latest trends, key players, and noteworthy news on Artificial Intelligence.\n",
      "2. Identify the target audience, considering their interests and pain points.\n",
      "3. Develop a detailed content outline including an introduction, key points, and a call to action.\n",
      "4. Include SEO keywords and relevant data or sources.\u001b[00m\n",
      "\n",
      "\n",
      "\u001b[1m> Entering new CrewAgentExecutor chain...\u001b[0m\n",
      "\u001b[32;1m\u001b[1;3mI now can give a great answer\n",
      "\n",
      "Final Answer: \n",
      "\n",
      "Content Plan Document:\n",
      "\n",
      "Title: Unveiling the Power of Artificial Intelligence: Latest Trends and Key Players\n",
      "\n",
      "Outline:\n",
      "I. Introduction\n",
      "- Definition of Artificial Intelligence\n",
      "- Importance of AI in today's world\n",
      "- Brief overview of the latest trends and key players in the AI industry\n",
      "\n",
      "II. Latest Trends in Artificial Intelligence\n",
      "A. Machine Learning\n",
      "B. Natural Language Processing\n",
      "C. Robotics\n",
      "D. AI in Healthcare\n",
      "E. AI in Finance\n",
      "\n",
      "III. Key Players in the AI Industry\n",
      "A. Google\n",
      "B. Amazon\n",
      "C. Microsoft\n",
      "D. IBM\n",
      "E. Facebook\n",
      "\n",
      "IV. Target Audience Analysis\n",
      "- Professionals in the tech industry\n",
      "- Business owners looking to implement AI\n",
      "- Students and researchers interested in AI\n",
      "- Consumers curious about AI applications in their daily lives\n",
      "\n",
      "V. SEO Keywords\n",
      "- Artificial Intelligence trends\n",
      "- Top AI companies\n",
      "- AI technology advancements\n",
      "- Latest developments in AI\n",
      "- Key players in the AI industry\n",
      "\n",
      "VI. Call to Action\n",
      "- Encourage readers to stay updated on AI trends and advancements\n",
      "- Invite them to explore AI applications in their respective fields\n",
      "- Provide resources for further reading and research\n",
      "\n",
      "Resources:\n",
      "1. Forbes - \"Top 10 Artificial Intelligence Trends to Watch in 2021\"\n",
      "2. TechCrunch - \"The Rise of AI: Key Players Shaping the Future of Artificial Intelligence\"\n",
      "3. McKinsey & Company - \"Artificial Intelligence: The Next Frontier for Business\"\n",
      "\n",
      "By following this content plan document, we can create an engaging and informative blog article that will educate our audience on the latest trends and key players in the field of Artificial Intelligence.\u001b[0m\n",
      "\n",
      "\u001b[1m> Finished chain.\u001b[0m\n",
      "\u001b[1m\u001b[92m [DEBUG]: == [Content Planner] Task output: Content Plan Document:\n",
      "\n",
      "Title: Unveiling the Power of Artificial Intelligence: Latest Trends and Key Players\n",
      "\n",
      "Outline:\n",
      "I. Introduction\n",
      "- Definition of Artificial Intelligence\n",
      "- Importance of AI in today's world\n",
      "- Brief overview of the latest trends and key players in the AI industry\n",
      "\n",
      "II. Latest Trends in Artificial Intelligence\n",
      "A. Machine Learning\n",
      "B. Natural Language Processing\n",
      "C. Robotics\n",
      "D. AI in Healthcare\n",
      "E. AI in Finance\n",
      "\n",
      "III. Key Players in the AI Industry\n",
      "A. Google\n",
      "B. Amazon\n",
      "C. Microsoft\n",
      "D. IBM\n",
      "E. Facebook\n",
      "\n",
      "IV. Target Audience Analysis\n",
      "- Professionals in the tech industry\n",
      "- Business owners looking to implement AI\n",
      "- Students and researchers interested in AI\n",
      "- Consumers curious about AI applications in their daily lives\n",
      "\n",
      "V. SEO Keywords\n",
      "- Artificial Intelligence trends\n",
      "- Top AI companies\n",
      "- AI technology advancements\n",
      "- Latest developments in AI\n",
      "- Key players in the AI industry\n",
      "\n",
      "VI. Call to Action\n",
      "- Encourage readers to stay updated on AI trends and advancements\n",
      "- Invite them to explore AI applications in their respective fields\n",
      "- Provide resources for further reading and research\n",
      "\n",
      "Resources:\n",
      "1. Forbes - \"Top 10 Artificial Intelligence Trends to Watch in 2021\"\n",
      "2. TechCrunch - \"The Rise of AI: Key Players Shaping the Future of Artificial Intelligence\"\n",
      "3. McKinsey & Company - \"Artificial Intelligence: The Next Frontier for Business\"\n",
      "\n",
      "By following this content plan document, we can create an engaging and informative blog article that will educate our audience on the latest trends and key players in the field of Artificial Intelligence.\n",
      "\n",
      "\u001b[00m\n",
      "\u001b[1m\u001b[95m [DEBUG]: == Working Agent: Content Writer\u001b[00m\n",
      "\u001b[1m\u001b[95m [INFO]: == Starting Task: 1. Use the content plan to craft a compelling blog post on Artificial Intelligence.\n",
      "2. Incorporate SEO keywords naturally.\n",
      "3. Sections/Subtitles are properly named in an engaging manner.\n",
      "4. Ensure the post is structured with an engaging introduction, insightful body, and a summarizing conclusion.\n",
      "5. Proofread for grammatical errors and alignment with the brand's voice.\n",
      "\u001b[00m\n",
      "\n",
      "\n",
      "\u001b[1m> Entering new CrewAgentExecutor chain...\u001b[0m\n",
      "\u001b[32;1m\u001b[1;3mI now can give a great answer\n",
      "\n",
      "Final Answer:\n",
      "\n",
      "# Unveiling the Power of Artificial Intelligence: Latest Trends and Key Players\n",
      "\n",
      "## Introduction\n",
      "\n",
      "Artificial Intelligence (AI) has become a ubiquitous term in today's world, encompassing a wide range of technologies that aim to replicate human intelligence in machines. From self-driving cars to virtual assistants, AI is transforming various industries and revolutionizing the way we live and work. In this blog post, we will delve into the latest trends and key players in the AI industry, shedding light on the advancements that are shaping our future.\n",
      "\n",
      "## Latest Trends in Artificial Intelligence\n",
      "\n",
      "### Machine Learning\n",
      "Machine learning, a subset of AI, enables machines to learn from data and improve their performance without being explicitly programmed. This technology powers recommendation systems, autonomous vehicles, and predictive analytics, making it a cornerstone of AI innovation.\n",
      "\n",
      "### Natural Language Processing\n",
      "Natural Language Processing (NLP) focuses on enabling computers to understand, interpret, and generate human language. From chatbots to language translation tools, NLP is enhancing communication between humans and machines, opening up new possibilities for AI applications.\n",
      "\n",
      "### Robotics\n",
      "AI-driven robotics is revolutionizing industries such as manufacturing, healthcare, and logistics. Collaborative robots, or cobots, are working alongside humans in factories, while surgical robots are assisting surgeons in complex procedures, showcasing the potential of AI-powered robotics.\n",
      "\n",
      "### AI in Healthcare\n",
      "The healthcare industry is leveraging AI to enhance patient care, streamline operations, and accelerate medical research. AI-powered diagnostic tools, personalized treatment plans, and predictive analytics are revolutionizing healthcare delivery and improving patient outcomes.\n",
      "\n",
      "### AI in Finance\n",
      "In the finance sector, AI is being used to detect fraud, automate trading, and personalize customer experiences. Robo-advisors, algorithmic trading systems, and chatbots are reshaping the financial services landscape, offering efficiency and convenience to consumers and businesses alike.\n",
      "\n",
      "## Key Players in the AI Industry\n",
      "\n",
      "### Google\n",
      "Google's deep investments in AI research and development have led to breakthroughs in machine learning, NLP, and computer vision. From Google Assistant to self-driving cars, Google is at the forefront of AI innovation, pushing the boundaries of what is possible with artificial intelligence.\n",
      "\n",
      "### Amazon\n",
      "Amazon's AI capabilities power its e-commerce platform, logistics operations, and cloud services. With advancements in recommendation systems, voice recognition, and drone technology, Amazon is redefining customer experiences and operational efficiency through AI-driven solutions.\n",
      "\n",
      "### Microsoft\n",
      "Microsoft's Azure AI platform offers a comprehensive suite of AI tools and services, enabling businesses to build and deploy AI applications at scale. From cognitive services to conversational AI, Microsoft is empowering organizations to harness the power of AI for digital transformation and innovation.\n",
      "\n",
      "### IBM\n",
      "IBM's Watson AI platform is a pioneer in cognitive computing, with applications in healthcare, finance, and cybersecurity. IBM's AI research and solutions are driving advancements in natural language processing, computer vision, and decision-making systems, shaping the future of AI-enabled technologies.\n",
      "\n",
      "### Facebook\n",
      "Facebook's AI initiatives focus on improving user experiences, content moderation, and virtual reality applications. With AI-powered recommendation algorithms, language translation tools, and facial recognition technology, Facebook is leveraging AI to connect people and drive social interactions on its platform.\n",
      "\n",
      "## Target Audience Analysis\n",
      "\n",
      "Professionals in the tech industry, business owners, students, researchers, and curious consumers can all benefit from staying informed about AI trends and advancements. By understanding the latest developments in AI and the key players driving innovation, individuals can explore the potential applications of AI in their respective fields and stay ahead of the curve in this rapidly evolving industry.\n",
      "\n",
      "## Call to Action\n",
      "\n",
      "As we continue to witness the evolution of AI technologies, it is essential for readers to stay updated on AI trends and advancements. I encourage you to explore the diverse applications of AI in various industries, from healthcare to finance, and to discover how AI can transform your business or research endeavors. For further reading and research, check out the recommended resources below and delve deeper into the fascinating world of Artificial Intelligence.\n",
      "\n",
      "In conclusion, Artificial Intelligence is reshaping the future of technology and society, with a myriad of applications and innovations that are set to revolutionize our world. By staying informed and engaged with the latest trends and key players in the AI industry, we can harness the power of AI to drive progress and create a more intelligent future for all.\u001b[0m\n",
      "\n",
      "\u001b[1m> Finished chain.\u001b[0m\n",
      "\u001b[1m\u001b[92m [DEBUG]: == [Content Writer] Task output: # Unveiling the Power of Artificial Intelligence: Latest Trends and Key Players\n",
      "\n",
      "## Introduction\n",
      "\n",
      "Artificial Intelligence (AI) has become a ubiquitous term in today's world, encompassing a wide range of technologies that aim to replicate human intelligence in machines. From self-driving cars to virtual assistants, AI is transforming various industries and revolutionizing the way we live and work. In this blog post, we will delve into the latest trends and key players in the AI industry, shedding light on the advancements that are shaping our future.\n",
      "\n",
      "## Latest Trends in Artificial Intelligence\n",
      "\n",
      "### Machine Learning\n",
      "Machine learning, a subset of AI, enables machines to learn from data and improve their performance without being explicitly programmed. This technology powers recommendation systems, autonomous vehicles, and predictive analytics, making it a cornerstone of AI innovation.\n",
      "\n",
      "### Natural Language Processing\n",
      "Natural Language Processing (NLP) focuses on enabling computers to understand, interpret, and generate human language. From chatbots to language translation tools, NLP is enhancing communication between humans and machines, opening up new possibilities for AI applications.\n",
      "\n",
      "### Robotics\n",
      "AI-driven robotics is revolutionizing industries such as manufacturing, healthcare, and logistics. Collaborative robots, or cobots, are working alongside humans in factories, while surgical robots are assisting surgeons in complex procedures, showcasing the potential of AI-powered robotics.\n",
      "\n",
      "### AI in Healthcare\n",
      "The healthcare industry is leveraging AI to enhance patient care, streamline operations, and accelerate medical research. AI-powered diagnostic tools, personalized treatment plans, and predictive analytics are revolutionizing healthcare delivery and improving patient outcomes.\n",
      "\n",
      "### AI in Finance\n",
      "In the finance sector, AI is being used to detect fraud, automate trading, and personalize customer experiences. Robo-advisors, algorithmic trading systems, and chatbots are reshaping the financial services landscape, offering efficiency and convenience to consumers and businesses alike.\n",
      "\n",
      "## Key Players in the AI Industry\n",
      "\n",
      "### Google\n",
      "Google's deep investments in AI research and development have led to breakthroughs in machine learning, NLP, and computer vision. From Google Assistant to self-driving cars, Google is at the forefront of AI innovation, pushing the boundaries of what is possible with artificial intelligence.\n",
      "\n",
      "### Amazon\n",
      "Amazon's AI capabilities power its e-commerce platform, logistics operations, and cloud services. With advancements in recommendation systems, voice recognition, and drone technology, Amazon is redefining customer experiences and operational efficiency through AI-driven solutions.\n",
      "\n",
      "### Microsoft\n",
      "Microsoft's Azure AI platform offers a comprehensive suite of AI tools and services, enabling businesses to build and deploy AI applications at scale. From cognitive services to conversational AI, Microsoft is empowering organizations to harness the power of AI for digital transformation and innovation.\n",
      "\n",
      "### IBM\n",
      "IBM's Watson AI platform is a pioneer in cognitive computing, with applications in healthcare, finance, and cybersecurity. IBM's AI research and solutions are driving advancements in natural language processing, computer vision, and decision-making systems, shaping the future of AI-enabled technologies.\n",
      "\n",
      "### Facebook\n",
      "Facebook's AI initiatives focus on improving user experiences, content moderation, and virtual reality applications. With AI-powered recommendation algorithms, language translation tools, and facial recognition technology, Facebook is leveraging AI to connect people and drive social interactions on its platform.\n",
      "\n",
      "## Target Audience Analysis\n",
      "\n",
      "Professionals in the tech industry, business owners, students, researchers, and curious consumers can all benefit from staying informed about AI trends and advancements. By understanding the latest developments in AI and the key players driving innovation, individuals can explore the potential applications of AI in their respective fields and stay ahead of the curve in this rapidly evolving industry.\n",
      "\n",
      "## Call to Action\n",
      "\n",
      "As we continue to witness the evolution of AI technologies, it is essential for readers to stay updated on AI trends and advancements. I encourage you to explore the diverse applications of AI in various industries, from healthcare to finance, and to discover how AI can transform your business or research endeavors. For further reading and research, check out the recommended resources below and delve deeper into the fascinating world of Artificial Intelligence.\n",
      "\n",
      "In conclusion, Artificial Intelligence is reshaping the future of technology and society, with a myriad of applications and innovations that are set to revolutionize our world. By staying informed and engaged with the latest trends and key players in the AI industry, we can harness the power of AI to drive progress and create a more intelligent future for all.\n",
      "\n",
      "\u001b[00m\n",
      "\u001b[1m\u001b[95m [DEBUG]: == Working Agent: Editor\u001b[00m\n",
      "\u001b[1m\u001b[95m [INFO]: == Starting Task: Proofread the given blog post for grammatical errors and alignment with the brand's voice.\u001b[00m\n",
      "\n",
      "\n",
      "\u001b[1m> Entering new CrewAgentExecutor chain...\u001b[0m\n"
     ]
    },
    {
     "name": "stdout",
     "output_type": "stream",
     "text": [
      "\u001b[32;1m\u001b[1;3mI now can give a great answer\n",
      "\n",
      "Final Answer:\n",
      "# Unveiling the Power of Artificial Intelligence: Latest Trends and Key Players\n",
      "\n",
      "## Introduction\n",
      "\n",
      "Artificial Intelligence (AI) has become a ubiquitous term in today's world, encompassing a wide range of technologies that aim to replicate human intelligence in machines. From self-driving cars to virtual assistants, AI is transforming various industries and revolutionizing the way we live and work. In this blog post, we will delve into the latest trends and key players in the AI industry, shedding light on the advancements that are shaping our future.\n",
      "\n",
      "## Latest Trends in Artificial Intelligence\n",
      "\n",
      "### Machine Learning\n",
      "Machine learning, a subset of AI, enables machines to learn from data and improve their performance without being explicitly programmed. This technology powers recommendation systems, autonomous vehicles, and predictive analytics, making it a cornerstone of AI innovation.\n",
      "\n",
      "### Natural Language Processing\n",
      "Natural Language Processing (NLP) focuses on enabling computers to understand, interpret, and generate human language. From chatbots to language translation tools, NLP is enhancing communication between humans and machines, opening up new possibilities for AI applications.\n",
      "\n",
      "### Robotics\n",
      "AI-driven robotics is revolutionizing industries such as manufacturing, healthcare, and logistics. Collaborative robots, or cobots, are working alongside humans in factories, while surgical robots are assisting surgeons in complex procedures, showcasing the potential of AI-powered robotics.\n",
      "\n",
      "### AI in Healthcare\n",
      "The healthcare industry is leveraging AI to enhance patient care, streamline operations, and accelerate medical research. AI-powered diagnostic tools, personalized treatment plans, and predictive analytics are revolutionizing healthcare delivery and improving patient outcomes.\n",
      "\n",
      "### AI in Finance\n",
      "In the finance sector, AI is being used to detect fraud, automate trading, and personalize customer experiences. Robo-advisors, algorithmic trading systems, and chatbots are reshaping the financial services landscape, offering efficiency and convenience to consumers and businesses alike.\n",
      "\n",
      "## Key Players in the AI Industry\n",
      "\n",
      "### Google\n",
      "Google's deep investments in AI research and development have led to breakthroughs in machine learning, NLP, and computer vision. From Google Assistant to self-driving cars, Google is at the forefront of AI innovation, pushing the boundaries of what is possible with artificial intelligence.\n",
      "\n",
      "### Amazon\n",
      "Amazon's AI capabilities power its e-commerce platform, logistics operations, and cloud services. With advancements in recommendation systems, voice recognition, and drone technology, Amazon is redefining customer experiences and operational efficiency through AI-driven solutions.\n",
      "\n",
      "### Microsoft\n",
      "Microsoft's Azure AI platform offers a comprehensive suite of AI tools and services, enabling businesses to build and deploy AI applications at scale. From cognitive services to conversational AI, Microsoft is empowering organizations to harness the power of AI for digital transformation and innovation.\n",
      "\n",
      "### IBM\n",
      "IBM's Watson AI platform is a pioneer in cognitive computing, with applications in healthcare, finance, and cybersecurity. IBM's AI research and solutions are driving advancements in natural language processing, computer vision, and decision-making systems, shaping the future of AI-enabled technologies.\n",
      "\n",
      "### Facebook\n",
      "Facebook's AI initiatives focus on improving user experiences, content moderation, and virtual reality applications. With AI-powered recommendation algorithms, language translation tools, and facial recognition technology, Facebook is leveraging AI to connect people and drive social interactions on its platform.\n",
      "\n",
      "## Target Audience Analysis\n",
      "\n",
      "Professionals in the tech industry, business owners, students, researchers, and curious consumers can all benefit from staying informed about AI trends and advancements. By understanding the latest developments in AI and the key players driving innovation, individuals can explore the potential applications of AI in their respective fields and stay ahead of the curve in this rapidly evolving industry.\n",
      "\n",
      "## Call to Action\n",
      "\n",
      "As we continue to witness the evolution of AI technologies, it is essential for readers to stay updated on AI trends and advancements. I encourage you to explore the diverse applications of AI in various industries, from healthcare to finance, and to discover how AI can transform your business or research endeavors. For further reading and research, check out the recommended resources below and delve deeper into the fascinating world of Artificial Intelligence.\n",
      "\n",
      "In conclusion, Artificial Intelligence is reshaping the future of technology and society, with a myriad of applications and innovations that are set to revolutionize our world. By staying informed and engaged with the latest trends and key players in the AI industry, we can harness the power of AI to drive progress and create a more intelligent future for all.\u001b[0m\n",
      "\n",
      "\u001b[1m> Finished chain.\u001b[0m\n",
      "\u001b[1m\u001b[92m [DEBUG]: == [Editor] Task output: # Unveiling the Power of Artificial Intelligence: Latest Trends and Key Players\n",
      "\n",
      "## Introduction\n",
      "\n",
      "Artificial Intelligence (AI) has become a ubiquitous term in today's world, encompassing a wide range of technologies that aim to replicate human intelligence in machines. From self-driving cars to virtual assistants, AI is transforming various industries and revolutionizing the way we live and work. In this blog post, we will delve into the latest trends and key players in the AI industry, shedding light on the advancements that are shaping our future.\n",
      "\n",
      "## Latest Trends in Artificial Intelligence\n",
      "\n",
      "### Machine Learning\n",
      "Machine learning, a subset of AI, enables machines to learn from data and improve their performance without being explicitly programmed. This technology powers recommendation systems, autonomous vehicles, and predictive analytics, making it a cornerstone of AI innovation.\n",
      "\n",
      "### Natural Language Processing\n",
      "Natural Language Processing (NLP) focuses on enabling computers to understand, interpret, and generate human language. From chatbots to language translation tools, NLP is enhancing communication between humans and machines, opening up new possibilities for AI applications.\n",
      "\n",
      "### Robotics\n",
      "AI-driven robotics is revolutionizing industries such as manufacturing, healthcare, and logistics. Collaborative robots, or cobots, are working alongside humans in factories, while surgical robots are assisting surgeons in complex procedures, showcasing the potential of AI-powered robotics.\n",
      "\n",
      "### AI in Healthcare\n",
      "The healthcare industry is leveraging AI to enhance patient care, streamline operations, and accelerate medical research. AI-powered diagnostic tools, personalized treatment plans, and predictive analytics are revolutionizing healthcare delivery and improving patient outcomes.\n",
      "\n",
      "### AI in Finance\n",
      "In the finance sector, AI is being used to detect fraud, automate trading, and personalize customer experiences. Robo-advisors, algorithmic trading systems, and chatbots are reshaping the financial services landscape, offering efficiency and convenience to consumers and businesses alike.\n",
      "\n",
      "## Key Players in the AI Industry\n",
      "\n",
      "### Google\n",
      "Google's deep investments in AI research and development have led to breakthroughs in machine learning, NLP, and computer vision. From Google Assistant to self-driving cars, Google is at the forefront of AI innovation, pushing the boundaries of what is possible with artificial intelligence.\n",
      "\n",
      "### Amazon\n",
      "Amazon's AI capabilities power its e-commerce platform, logistics operations, and cloud services. With advancements in recommendation systems, voice recognition, and drone technology, Amazon is redefining customer experiences and operational efficiency through AI-driven solutions.\n",
      "\n",
      "### Microsoft\n",
      "Microsoft's Azure AI platform offers a comprehensive suite of AI tools and services, enabling businesses to build and deploy AI applications at scale. From cognitive services to conversational AI, Microsoft is empowering organizations to harness the power of AI for digital transformation and innovation.\n",
      "\n",
      "### IBM\n",
      "IBM's Watson AI platform is a pioneer in cognitive computing, with applications in healthcare, finance, and cybersecurity. IBM's AI research and solutions are driving advancements in natural language processing, computer vision, and decision-making systems, shaping the future of AI-enabled technologies.\n",
      "\n",
      "### Facebook\n",
      "Facebook's AI initiatives focus on improving user experiences, content moderation, and virtual reality applications. With AI-powered recommendation algorithms, language translation tools, and facial recognition technology, Facebook is leveraging AI to connect people and drive social interactions on its platform.\n",
      "\n",
      "## Target Audience Analysis\n",
      "\n",
      "Professionals in the tech industry, business owners, students, researchers, and curious consumers can all benefit from staying informed about AI trends and advancements. By understanding the latest developments in AI and the key players driving innovation, individuals can explore the potential applications of AI in their respective fields and stay ahead of the curve in this rapidly evolving industry.\n",
      "\n",
      "## Call to Action\n",
      "\n",
      "As we continue to witness the evolution of AI technologies, it is essential for readers to stay updated on AI trends and advancements. I encourage you to explore the diverse applications of AI in various industries, from healthcare to finance, and to discover how AI can transform your business or research endeavors. For further reading and research, check out the recommended resources below and delve deeper into the fascinating world of Artificial Intelligence.\n",
      "\n",
      "In conclusion, Artificial Intelligence is reshaping the future of technology and society, with a myriad of applications and innovations that are set to revolutionize our world. By staying informed and engaged with the latest trends and key players in the AI industry, we can harness the power of AI to drive progress and create a more intelligent future for all.\n",
      "\n",
      "\u001b[00m\n"
     ]
    }
   ],
   "source": [
    "result = crew.kickoff(inputs={\"topic\": \"Artificial Intelligence\"})"
   ]
  },
  {
   "cell_type": "markdown",
   "metadata": {},
   "source": [
    "- Display the results of your execution as markdown in the notebook."
   ]
  },
  {
   "cell_type": "code",
   "execution_count": 42,
   "metadata": {
    "height": 47
   },
   "outputs": [
    {
     "data": {
      "text/markdown": [
       "# Unveiling the Power of Artificial Intelligence: Latest Trends and Key Players\n",
       "\n",
       "## Introduction\n",
       "\n",
       "Artificial Intelligence (AI) has become a ubiquitous term in today's world, encompassing a wide range of technologies that aim to replicate human intelligence in machines. From self-driving cars to virtual assistants, AI is transforming various industries and revolutionizing the way we live and work. In this blog post, we will delve into the latest trends and key players in the AI industry, shedding light on the advancements that are shaping our future.\n",
       "\n",
       "## Latest Trends in Artificial Intelligence\n",
       "\n",
       "### Machine Learning\n",
       "Machine learning, a subset of AI, enables machines to learn from data and improve their performance without being explicitly programmed. This technology powers recommendation systems, autonomous vehicles, and predictive analytics, making it a cornerstone of AI innovation.\n",
       "\n",
       "### Natural Language Processing\n",
       "Natural Language Processing (NLP) focuses on enabling computers to understand, interpret, and generate human language. From chatbots to language translation tools, NLP is enhancing communication between humans and machines, opening up new possibilities for AI applications.\n",
       "\n",
       "### Robotics\n",
       "AI-driven robotics is revolutionizing industries such as manufacturing, healthcare, and logistics. Collaborative robots, or cobots, are working alongside humans in factories, while surgical robots are assisting surgeons in complex procedures, showcasing the potential of AI-powered robotics.\n",
       "\n",
       "### AI in Healthcare\n",
       "The healthcare industry is leveraging AI to enhance patient care, streamline operations, and accelerate medical research. AI-powered diagnostic tools, personalized treatment plans, and predictive analytics are revolutionizing healthcare delivery and improving patient outcomes.\n",
       "\n",
       "### AI in Finance\n",
       "In the finance sector, AI is being used to detect fraud, automate trading, and personalize customer experiences. Robo-advisors, algorithmic trading systems, and chatbots are reshaping the financial services landscape, offering efficiency and convenience to consumers and businesses alike.\n",
       "\n",
       "## Key Players in the AI Industry\n",
       "\n",
       "### Google\n",
       "Google's deep investments in AI research and development have led to breakthroughs in machine learning, NLP, and computer vision. From Google Assistant to self-driving cars, Google is at the forefront of AI innovation, pushing the boundaries of what is possible with artificial intelligence.\n",
       "\n",
       "### Amazon\n",
       "Amazon's AI capabilities power its e-commerce platform, logistics operations, and cloud services. With advancements in recommendation systems, voice recognition, and drone technology, Amazon is redefining customer experiences and operational efficiency through AI-driven solutions.\n",
       "\n",
       "### Microsoft\n",
       "Microsoft's Azure AI platform offers a comprehensive suite of AI tools and services, enabling businesses to build and deploy AI applications at scale. From cognitive services to conversational AI, Microsoft is empowering organizations to harness the power of AI for digital transformation and innovation.\n",
       "\n",
       "### IBM\n",
       "IBM's Watson AI platform is a pioneer in cognitive computing, with applications in healthcare, finance, and cybersecurity. IBM's AI research and solutions are driving advancements in natural language processing, computer vision, and decision-making systems, shaping the future of AI-enabled technologies.\n",
       "\n",
       "### Facebook\n",
       "Facebook's AI initiatives focus on improving user experiences, content moderation, and virtual reality applications. With AI-powered recommendation algorithms, language translation tools, and facial recognition technology, Facebook is leveraging AI to connect people and drive social interactions on its platform.\n",
       "\n",
       "## Target Audience Analysis\n",
       "\n",
       "Professionals in the tech industry, business owners, students, researchers, and curious consumers can all benefit from staying informed about AI trends and advancements. By understanding the latest developments in AI and the key players driving innovation, individuals can explore the potential applications of AI in their respective fields and stay ahead of the curve in this rapidly evolving industry.\n",
       "\n",
       "## Call to Action\n",
       "\n",
       "As we continue to witness the evolution of AI technologies, it is essential for readers to stay updated on AI trends and advancements. I encourage you to explore the diverse applications of AI in various industries, from healthcare to finance, and to discover how AI can transform your business or research endeavors. For further reading and research, check out the recommended resources below and delve deeper into the fascinating world of Artificial Intelligence.\n",
       "\n",
       "In conclusion, Artificial Intelligence is reshaping the future of technology and society, with a myriad of applications and innovations that are set to revolutionize our world. By staying informed and engaged with the latest trends and key players in the AI industry, we can harness the power of AI to drive progress and create a more intelligent future for all."
      ],
      "text/plain": [
       "<IPython.core.display.Markdown object>"
      ]
     },
     "execution_count": 42,
     "metadata": {},
     "output_type": "execute_result"
    }
   ],
   "source": [
    "from IPython.display import Markdown\n",
    "Markdown(result)"
   ]
  },
  {
   "cell_type": "markdown",
   "metadata": {},
   "source": [
    "## Try it Yourself\n",
    "\n",
    "- Pass in a topic of your choice and see what the agents come up with!"
   ]
  },
  {
   "cell_type": "code",
   "execution_count": 44,
   "metadata": {
    "height": 47
   },
   "outputs": [
    {
     "name": "stdout",
     "output_type": "stream",
     "text": [
      "\u001b[1m\u001b[95m [DEBUG]: == Working Agent: Content Planner\u001b[00m\n",
      "\u001b[1m\u001b[95m [INFO]: == Starting Task: 1. Prioritize the latest trends, key players, and noteworthy news on Capybara take over the world.\n",
      "2. Identify the target audience, considering their interests and pain points.\n",
      "3. Develop a detailed content outline including an introduction, key points, and a call to action.\n",
      "4. Include SEO keywords and relevant data or sources.\u001b[00m\n",
      "\n",
      "\n",
      "\u001b[1m> Entering new CrewAgentExecutor chain...\u001b[0m\n",
      "\u001b[32;1m\u001b[1;3mI now can give a great answer\n",
      "\n",
      "Final Answer:\n",
      "Content Plan Document:\n",
      "\n",
      "Title: Capybara Take Over the World: A Look at the Latest Trends and Key Players\n",
      "\n",
      "Introduction:\n",
      "- Brief overview of the increasing population and influence of capybaras worldwide\n",
      "- Mention of the potential implications of capybaras taking over the world\n",
      "- Preview of key points to be discussed in the article\n",
      "\n",
      "Key Points:\n",
      "1. Latest Trends:\n",
      "- Growth of capybara populations in various regions around the world\n",
      "- Increase in media coverage and social media presence of capybaras\n",
      "- Adoption of capybaras as pets in some countries\n",
      "\n",
      "2. Key Players:\n",
      "- Capybara conservation organizations and researchers\n",
      "- Social media influencers and popular websites featuring capybaras\n",
      "- Countries with the largest capybara populations\n",
      "\n",
      "3. Noteworthy News:\n",
      "- Recent studies on capybara behavior and adaptability\n",
      "- Instances of capybaras interacting with other wildlife species\n",
      "- Updates on laws and regulations regarding the ownership and protection of capybaras\n",
      "\n",
      "Audience Analysis:\n",
      "Target Audience: Animal lovers, wildlife enthusiasts, conservationists, and individuals interested in unique animal behavior\n",
      "Interests: Learning about capybaras, understanding their impact on ecosystems, and exploring the potential consequences of their increasing population\n",
      "Pain Points: Concerns about the welfare of capybaras, curiosity about their behavior in different environments, and the desire for accurate information about capybaras\n",
      "\n",
      "SEO Keywords:\n",
      "- Capybara population growth\n",
      "- Capybara behavior\n",
      "- Capybara conservation\n",
      "- Capybara news\n",
      "- Capybara takeover\n",
      "\n",
      "Resources:\n",
      "- National Geographic article on capybara populations\n",
      "- Wildlife Conservation Society report on capybara conservation efforts\n",
      "- The Capybara Society website for information on capybara behavior\n",
      "- Social media accounts of popular capybara influencers for recent news and updates\n",
      "\n",
      "Call to Action:\n",
      "Encourage readers to support capybara conservation efforts by donating to organizations dedicated to protecting these unique creatures. Provide links to relevant websites and resources for further information and involvement.\u001b[0m\n",
      "\n",
      "\u001b[1m> Finished chain.\u001b[0m\n",
      "\u001b[1m\u001b[92m [DEBUG]: == [Content Planner] Task output: Content Plan Document:\n",
      "\n",
      "Title: Capybara Take Over the World: A Look at the Latest Trends and Key Players\n",
      "\n",
      "Introduction:\n",
      "- Brief overview of the increasing population and influence of capybaras worldwide\n",
      "- Mention of the potential implications of capybaras taking over the world\n",
      "- Preview of key points to be discussed in the article\n",
      "\n",
      "Key Points:\n",
      "1. Latest Trends:\n",
      "- Growth of capybara populations in various regions around the world\n",
      "- Increase in media coverage and social media presence of capybaras\n",
      "- Adoption of capybaras as pets in some countries\n",
      "\n",
      "2. Key Players:\n",
      "- Capybara conservation organizations and researchers\n",
      "- Social media influencers and popular websites featuring capybaras\n",
      "- Countries with the largest capybara populations\n",
      "\n",
      "3. Noteworthy News:\n",
      "- Recent studies on capybara behavior and adaptability\n",
      "- Instances of capybaras interacting with other wildlife species\n",
      "- Updates on laws and regulations regarding the ownership and protection of capybaras\n",
      "\n",
      "Audience Analysis:\n",
      "Target Audience: Animal lovers, wildlife enthusiasts, conservationists, and individuals interested in unique animal behavior\n",
      "Interests: Learning about capybaras, understanding their impact on ecosystems, and exploring the potential consequences of their increasing population\n",
      "Pain Points: Concerns about the welfare of capybaras, curiosity about their behavior in different environments, and the desire for accurate information about capybaras\n",
      "\n",
      "SEO Keywords:\n",
      "- Capybara population growth\n",
      "- Capybara behavior\n",
      "- Capybara conservation\n",
      "- Capybara news\n",
      "- Capybara takeover\n",
      "\n",
      "Resources:\n",
      "- National Geographic article on capybara populations\n",
      "- Wildlife Conservation Society report on capybara conservation efforts\n",
      "- The Capybara Society website for information on capybara behavior\n",
      "- Social media accounts of popular capybara influencers for recent news and updates\n",
      "\n",
      "Call to Action:\n",
      "Encourage readers to support capybara conservation efforts by donating to organizations dedicated to protecting these unique creatures. Provide links to relevant websites and resources for further information and involvement.\n",
      "\n",
      "\u001b[00m\n",
      "\u001b[1m\u001b[95m [DEBUG]: == Working Agent: Content Writer\u001b[00m\n",
      "\u001b[1m\u001b[95m [INFO]: == Starting Task: 1. Use the content plan to craft a compelling blog post on Capybara take over the world.\n",
      "2. Incorporate SEO keywords naturally.\n",
      "3. Sections/Subtitles are properly named in an engaging manner.\n",
      "4. Ensure the post is structured with an engaging introduction, insightful body, and a summarizing conclusion.\n",
      "5. Proofread for grammatical errors and alignment with the brand's voice.\n",
      "\u001b[00m\n",
      "\n",
      "\n",
      "\u001b[1m> Entering new CrewAgentExecutor chain...\u001b[0m\n",
      "\u001b[32;1m\u001b[1;3mI now can give a great answer.\n",
      "\n",
      "Final Answer:\n",
      "# Capybara Take Over the World: A Look at the Latest Trends and Key Players\n",
      "\n",
      "## Introduction\n",
      "Capybaras, the world's largest rodents, have been making waves in the global wildlife scene with their increasing population and influence. From the savannas of South America to unexpected sightings in urban areas, these charismatic creatures are capturing the hearts of animal lovers and conservationists worldwide. As their numbers grow, the potential implications of capybaras taking over the world raise questions about the delicate balance of ecosystems and human-wildlife interactions. In this article, we delve into the latest trends and key players in the capybara phenomenon, shedding light on their impact and the challenges they face in a changing world.\n",
      "\n",
      "## Latest Trends\n",
      "The growth of capybara populations in various regions around the world has been a notable trend in recent years. Originally native to South America, these adaptable creatures have found new habitats in places like Japan and parts of the United States, leading to both excitement and concern among wildlife enthusiasts. Alongside this expansion, there has been a surge in media coverage and social media presence of capybaras, with viral videos and adorable photos showcasing their playful nature and unique behaviors. Additionally, some countries have seen a rise in the adoption of capybaras as pets, blurring the lines between wild and domesticated animals.\n",
      "\n",
      "## Key Players\n",
      "Capybara conservation organizations and researchers play a crucial role in understanding and protecting these gentle giants. By studying their behavior and habitat requirements, experts aim to ensure the long-term survival of capybara populations in the face of environmental threats and human activities. Social media influencers and popular websites featuring capybaras have also contributed to raising awareness about these fascinating creatures, sparking interest and curiosity among a diverse audience. Moreover, countries with the largest capybara populations, such as Brazil and Venezuela, are at the forefront of efforts to conserve and manage these iconic species for future generations to enjoy.\n",
      "\n",
      "## Noteworthy News\n",
      "Recent studies on capybara behavior and adaptability have provided valuable insights into their social structures and ecological roles. Researchers have observed instances of capybaras interacting with other wildlife species, highlighting their importance as keystone species in their ecosystems. Updates on laws and regulations regarding the ownership and protection of capybaras reflect ongoing efforts to balance human needs with wildlife conservation priorities. As the world grapples with environmental challenges, the fate of capybaras serves as a reminder of the interconnectedness of all living beings and the shared responsibility to protect biodiversity.\n",
      "\n",
      "In conclusion, the rise of capybaras on the global stage presents a unique opportunity to appreciate and conserve these remarkable animals. By staying informed about the latest trends, supporting key players in capybara conservation, and staying engaged with noteworthy news, we can contribute to a sustainable future where capybaras and other wildlife thrive. Let us embrace the capybara takeover with curiosity and compassion, knowing that our actions today will shape the world they inherit tomorrow.\n",
      "\n",
      "*This opinion piece aims to provide a balanced perspective on the topic of capybaras taking over the world, incorporating insights from the Content Planner's outline and additional research on capybara behavior and conservation efforts.*\u001b[0m\n",
      "\n",
      "\u001b[1m> Finished chain.\u001b[0m\n",
      "\u001b[1m\u001b[92m [DEBUG]: == [Content Writer] Task output: # Capybara Take Over the World: A Look at the Latest Trends and Key Players\n",
      "\n",
      "## Introduction\n",
      "Capybaras, the world's largest rodents, have been making waves in the global wildlife scene with their increasing population and influence. From the savannas of South America to unexpected sightings in urban areas, these charismatic creatures are capturing the hearts of animal lovers and conservationists worldwide. As their numbers grow, the potential implications of capybaras taking over the world raise questions about the delicate balance of ecosystems and human-wildlife interactions. In this article, we delve into the latest trends and key players in the capybara phenomenon, shedding light on their impact and the challenges they face in a changing world.\n",
      "\n",
      "## Latest Trends\n",
      "The growth of capybara populations in various regions around the world has been a notable trend in recent years. Originally native to South America, these adaptable creatures have found new habitats in places like Japan and parts of the United States, leading to both excitement and concern among wildlife enthusiasts. Alongside this expansion, there has been a surge in media coverage and social media presence of capybaras, with viral videos and adorable photos showcasing their playful nature and unique behaviors. Additionally, some countries have seen a rise in the adoption of capybaras as pets, blurring the lines between wild and domesticated animals.\n",
      "\n",
      "## Key Players\n",
      "Capybara conservation organizations and researchers play a crucial role in understanding and protecting these gentle giants. By studying their behavior and habitat requirements, experts aim to ensure the long-term survival of capybara populations in the face of environmental threats and human activities. Social media influencers and popular websites featuring capybaras have also contributed to raising awareness about these fascinating creatures, sparking interest and curiosity among a diverse audience. Moreover, countries with the largest capybara populations, such as Brazil and Venezuela, are at the forefront of efforts to conserve and manage these iconic species for future generations to enjoy.\n",
      "\n",
      "## Noteworthy News\n",
      "Recent studies on capybara behavior and adaptability have provided valuable insights into their social structures and ecological roles. Researchers have observed instances of capybaras interacting with other wildlife species, highlighting their importance as keystone species in their ecosystems. Updates on laws and regulations regarding the ownership and protection of capybaras reflect ongoing efforts to balance human needs with wildlife conservation priorities. As the world grapples with environmental challenges, the fate of capybaras serves as a reminder of the interconnectedness of all living beings and the shared responsibility to protect biodiversity.\n",
      "\n",
      "In conclusion, the rise of capybaras on the global stage presents a unique opportunity to appreciate and conserve these remarkable animals. By staying informed about the latest trends, supporting key players in capybara conservation, and staying engaged with noteworthy news, we can contribute to a sustainable future where capybaras and other wildlife thrive. Let us embrace the capybara takeover with curiosity and compassion, knowing that our actions today will shape the world they inherit tomorrow.\n",
      "\n",
      "*This opinion piece aims to provide a balanced perspective on the topic of capybaras taking over the world, incorporating insights from the Content Planner's outline and additional research on capybara behavior and conservation efforts.*\n",
      "\n",
      "\u001b[00m\n",
      "\u001b[1m\u001b[95m [DEBUG]: == Working Agent: Editor\u001b[00m\n",
      "\u001b[1m\u001b[95m [INFO]: == Starting Task: Proofread the given blog post for grammatical errors and alignment with the brand's voice.\u001b[00m\n",
      "\n",
      "\n",
      "\u001b[1m> Entering new CrewAgentExecutor chain...\u001b[0m\n"
     ]
    },
    {
     "name": "stdout",
     "output_type": "stream",
     "text": [
      "\u001b[32;1m\u001b[1;3mI now can give a great answer\n",
      "\n",
      "Final Answer:\n",
      "# Capybara Take Over the World: A Look at the Latest Trends and Key Players\n",
      "\n",
      "## Introduction\n",
      "Capybaras, the world's largest rodents, have been making waves in the global wildlife scene with their increasing population and influence. From the savannas of South America to unexpected sightings in urban areas, these charismatic creatures are capturing the hearts of animal lovers and conservationists worldwide. As their numbers grow, the potential implications of capybaras taking over the world raise questions about the delicate balance of ecosystems and human-wildlife interactions. In this article, we delve into the latest trends and key players in the capybara phenomenon, shedding light on their impact and the challenges they face in a changing world.\n",
      "\n",
      "## Latest Trends\n",
      "The growth of capybara populations in various regions around the world has been a notable trend in recent years. Originally native to South America, these adaptable creatures have found new habitats in places like Japan and parts of the United States, leading to both excitement and concern among wildlife enthusiasts. Alongside this expansion, there has been a surge in media coverage and social media presence of capybaras, with viral videos and adorable photos showcasing their playful nature and unique behaviors. Additionally, some countries have seen a rise in the adoption of capybaras as pets, blurring the lines between wild and domesticated animals.\n",
      "\n",
      "## Key Players\n",
      "Capybara conservation organizations and researchers play a crucial role in understanding and protecting these gentle giants. By studying their behavior and habitat requirements, experts aim to ensure the long-term survival of capybara populations in the face of environmental threats and human activities. Social media influencers and popular websites featuring capybaras have also contributed to raising awareness about these fascinating creatures, sparking interest and curiosity among a diverse audience. Moreover, countries with the largest capybara populations, such as Brazil and Venezuela, are at the forefront of efforts to conserve and manage these iconic species for future generations to enjoy.\n",
      "\n",
      "## Noteworthy News\n",
      "Recent studies on capybara behavior and adaptability have provided valuable insights into their social structures and ecological roles. Researchers have observed instances of capybaras interacting with other wildlife species, highlighting their importance as keystone species in their ecosystems. Updates on laws and regulations regarding the ownership and protection of capybaras reflect ongoing efforts to balance human needs with wildlife conservation priorities. As the world grapples with environmental challenges, the fate of capybaras serves as a reminder of the interconnectedness of all living beings and the shared responsibility to protect biodiversity.\n",
      "\n",
      "In conclusion, the rise of capybaras on the global stage presents a unique opportunity to appreciate and conserve these remarkable animals. By staying informed about the latest trends, supporting key players in capybara conservation, and staying engaged with noteworthy news, we can contribute to a sustainable future where capybaras and other wildlife thrive. Let us embrace the capybara takeover with curiosity and compassion, knowing that our actions today will shape the world they inherit tomorrow. \n",
      "\n",
      "*This opinion piece aims to provide a balanced perspective on the topic of capybaras taking over the world, incorporating insights from the Content Planner's outline and additional research on capybara behavior and conservation efforts.*\u001b[0m\n",
      "\n",
      "\u001b[1m> Finished chain.\u001b[0m\n",
      "\u001b[1m\u001b[92m [DEBUG]: == [Editor] Task output: # Capybara Take Over the World: A Look at the Latest Trends and Key Players\n",
      "\n",
      "## Introduction\n",
      "Capybaras, the world's largest rodents, have been making waves in the global wildlife scene with their increasing population and influence. From the savannas of South America to unexpected sightings in urban areas, these charismatic creatures are capturing the hearts of animal lovers and conservationists worldwide. As their numbers grow, the potential implications of capybaras taking over the world raise questions about the delicate balance of ecosystems and human-wildlife interactions. In this article, we delve into the latest trends and key players in the capybara phenomenon, shedding light on their impact and the challenges they face in a changing world.\n",
      "\n",
      "## Latest Trends\n",
      "The growth of capybara populations in various regions around the world has been a notable trend in recent years. Originally native to South America, these adaptable creatures have found new habitats in places like Japan and parts of the United States, leading to both excitement and concern among wildlife enthusiasts. Alongside this expansion, there has been a surge in media coverage and social media presence of capybaras, with viral videos and adorable photos showcasing their playful nature and unique behaviors. Additionally, some countries have seen a rise in the adoption of capybaras as pets, blurring the lines between wild and domesticated animals.\n",
      "\n",
      "## Key Players\n",
      "Capybara conservation organizations and researchers play a crucial role in understanding and protecting these gentle giants. By studying their behavior and habitat requirements, experts aim to ensure the long-term survival of capybara populations in the face of environmental threats and human activities. Social media influencers and popular websites featuring capybaras have also contributed to raising awareness about these fascinating creatures, sparking interest and curiosity among a diverse audience. Moreover, countries with the largest capybara populations, such as Brazil and Venezuela, are at the forefront of efforts to conserve and manage these iconic species for future generations to enjoy.\n",
      "\n",
      "## Noteworthy News\n",
      "Recent studies on capybara behavior and adaptability have provided valuable insights into their social structures and ecological roles. Researchers have observed instances of capybaras interacting with other wildlife species, highlighting their importance as keystone species in their ecosystems. Updates on laws and regulations regarding the ownership and protection of capybaras reflect ongoing efforts to balance human needs with wildlife conservation priorities. As the world grapples with environmental challenges, the fate of capybaras serves as a reminder of the interconnectedness of all living beings and the shared responsibility to protect biodiversity.\n",
      "\n",
      "In conclusion, the rise of capybaras on the global stage presents a unique opportunity to appreciate and conserve these remarkable animals. By staying informed about the latest trends, supporting key players in capybara conservation, and staying engaged with noteworthy news, we can contribute to a sustainable future where capybaras and other wildlife thrive. Let us embrace the capybara takeover with curiosity and compassion, knowing that our actions today will shape the world they inherit tomorrow. \n",
      "\n",
      "*This opinion piece aims to provide a balanced perspective on the topic of capybaras taking over the world, incorporating insights from the Content Planner's outline and additional research on capybara behavior and conservation efforts.*\n",
      "\n",
      "\u001b[00m\n"
     ]
    }
   ],
   "source": [
    "topic = \"Capybara take over the world\"\n",
    "result = crew.kickoff(inputs={\"topic\": topic})"
   ]
  },
  {
   "cell_type": "code",
   "execution_count": 45,
   "metadata": {
    "height": 30
   },
   "outputs": [
    {
     "data": {
      "text/markdown": [
       "# Capybara Take Over the World: A Look at the Latest Trends and Key Players\n",
       "\n",
       "## Introduction\n",
       "Capybaras, the world's largest rodents, have been making waves in the global wildlife scene with their increasing population and influence. From the savannas of South America to unexpected sightings in urban areas, these charismatic creatures are capturing the hearts of animal lovers and conservationists worldwide. As their numbers grow, the potential implications of capybaras taking over the world raise questions about the delicate balance of ecosystems and human-wildlife interactions. In this article, we delve into the latest trends and key players in the capybara phenomenon, shedding light on their impact and the challenges they face in a changing world.\n",
       "\n",
       "## Latest Trends\n",
       "The growth of capybara populations in various regions around the world has been a notable trend in recent years. Originally native to South America, these adaptable creatures have found new habitats in places like Japan and parts of the United States, leading to both excitement and concern among wildlife enthusiasts. Alongside this expansion, there has been a surge in media coverage and social media presence of capybaras, with viral videos and adorable photos showcasing their playful nature and unique behaviors. Additionally, some countries have seen a rise in the adoption of capybaras as pets, blurring the lines between wild and domesticated animals.\n",
       "\n",
       "## Key Players\n",
       "Capybara conservation organizations and researchers play a crucial role in understanding and protecting these gentle giants. By studying their behavior and habitat requirements, experts aim to ensure the long-term survival of capybara populations in the face of environmental threats and human activities. Social media influencers and popular websites featuring capybaras have also contributed to raising awareness about these fascinating creatures, sparking interest and curiosity among a diverse audience. Moreover, countries with the largest capybara populations, such as Brazil and Venezuela, are at the forefront of efforts to conserve and manage these iconic species for future generations to enjoy.\n",
       "\n",
       "## Noteworthy News\n",
       "Recent studies on capybara behavior and adaptability have provided valuable insights into their social structures and ecological roles. Researchers have observed instances of capybaras interacting with other wildlife species, highlighting their importance as keystone species in their ecosystems. Updates on laws and regulations regarding the ownership and protection of capybaras reflect ongoing efforts to balance human needs with wildlife conservation priorities. As the world grapples with environmental challenges, the fate of capybaras serves as a reminder of the interconnectedness of all living beings and the shared responsibility to protect biodiversity.\n",
       "\n",
       "In conclusion, the rise of capybaras on the global stage presents a unique opportunity to appreciate and conserve these remarkable animals. By staying informed about the latest trends, supporting key players in capybara conservation, and staying engaged with noteworthy news, we can contribute to a sustainable future where capybaras and other wildlife thrive. Let us embrace the capybara takeover with curiosity and compassion, knowing that our actions today will shape the world they inherit tomorrow. \n",
       "\n",
       "*This opinion piece aims to provide a balanced perspective on the topic of capybaras taking over the world, incorporating insights from the Content Planner's outline and additional research on capybara behavior and conservation efforts.*"
      ],
      "text/plain": [
       "<IPython.core.display.Markdown object>"
      ]
     },
     "execution_count": 45,
     "metadata": {},
     "output_type": "execute_result"
    }
   ],
   "source": [
    "Markdown(result)"
   ]
  },
  {
   "cell_type": "markdown",
   "metadata": {},
   "source": [
    "<a name='1'></a>\n",
    " ## Other Popular Models as LLM for your Agents"
   ]
  },
  {
   "cell_type": "markdown",
   "metadata": {},
   "source": [
    "#### Hugging Face (HuggingFaceHub endpoint)\n",
    "\n",
    "```Python\n",
    "from langchain_community.llms import HuggingFaceHub\n",
    "\n",
    "llm = HuggingFaceHub(\n",
    "    repo_id=\"HuggingFaceH4/zephyr-7b-beta\",\n",
    "    huggingfacehub_api_token=\"<HF_TOKEN_HERE>\",\n",
    "    task=\"text-generation\",\n",
    ")\n",
    "\n",
    "### you will pass \"llm\" to your agent function\n",
    "```"
   ]
  },
  {
   "cell_type": "markdown",
   "metadata": {},
   "source": [
    "#### Mistral API\n",
    "\n",
    "```Python\n",
    "OPENAI_API_KEY=your-mistral-api-key\n",
    "OPENAI_API_BASE=https://api.mistral.ai/v1\n",
    "OPENAI_MODEL_NAME=\"mistral-small\"\n",
    "```"
   ]
  },
  {
   "cell_type": "markdown",
   "metadata": {},
   "source": [
    "#### Cohere\n",
    "\n",
    "```Python\n",
    "from langchain_community.chat_models import ChatCohere\n",
    "# Initialize language model\n",
    "os.environ[\"COHERE_API_KEY\"] = \"your-cohere-api-key\"\n",
    "llm = ChatCohere()\n",
    "\n",
    "### you will pass \"llm\" to your agent function\n",
    "```"
   ]
  },
  {
   "cell_type": "markdown",
   "metadata": {},
   "source": [
    "### For using Llama locally with Ollama and more, checkout the crewAI documentation on [Connecting to any LLM](https://docs.crewai.com/how-to/LLM-Connections/)."
   ]
  },
  {
   "cell_type": "code",
   "execution_count": null,
   "metadata": {
    "height": 30
   },
   "outputs": [],
   "source": []
  },
  {
   "cell_type": "code",
   "execution_count": null,
   "metadata": {
    "height": 30
   },
   "outputs": [],
   "source": []
  },
  {
   "cell_type": "code",
   "execution_count": null,
   "metadata": {
    "height": 30
   },
   "outputs": [],
   "source": []
  }
 ],
 "metadata": {
  "colab": {
   "gpuType": "T4",
   "provenance": []
  },
  "kernelspec": {
   "display_name": "Python 3 (ipykernel)",
   "language": "python",
   "name": "python3"
  },
  "language_info": {
   "codemirror_mode": {
    "name": "ipython",
    "version": 3
   },
   "file_extension": ".py",
   "mimetype": "text/x-python",
   "name": "python",
   "nbconvert_exporter": "python",
   "pygments_lexer": "ipython3",
   "version": "3.11.9"
  }
 },
 "nbformat": 4,
 "nbformat_minor": 4
}
